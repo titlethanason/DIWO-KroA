{
  "nbformat": 4,
  "nbformat_minor": 0,
  "metadata": {
    "colab": {
      "provenance": []
    },
    "kernelspec": {
      "name": "python3",
      "display_name": "Python 3"
    },
    "language_info": {
      "name": "python"
    }
  },
  "cells": [
    {
      "cell_type": "code",
      "metadata": {
        "id": "x9hLhdlRePjk"
      },
      "source": [
        "import pandas as pd\n",
        "import numpy as np\n",
        "import random\n",
        "import timeit\n",
        "import pickle\n",
        "import time\n",
        "import matplotlib.pyplot as plt"
      ],
      "execution_count": null,
      "outputs": []
    },
    {
      "cell_type": "markdown",
      "metadata": {
        "id": "QjCkiCTdhU69"
      },
      "source": [
        "# Read data"
      ]
    },
    {
      "cell_type": "code",
      "metadata": {
        "id": "rQdqyMljaA72"
      },
      "source": [
        "def get_distance(dataset):\n",
        "  distance_arr = []\n",
        "  for i in range(len(dataset)):\n",
        "    distance = []\n",
        "    for j in range(len(dataset)):\n",
        "      a = np.array([dataset['x'][i], dataset['y'][i]])\n",
        "      b = np.array([dataset['x'][j], dataset['y'][j]])\n",
        "      distance.append(np.linalg.norm(a-b))\n",
        "    distance_arr.append(distance)\n",
        "  return np.array(distance_arr)"
      ],
      "execution_count": null,
      "outputs": []
    },
    {
      "cell_type": "code",
      "metadata": {
        "id": "O3gD1cFqZnVG"
      },
      "source": [
        "df_A100 = pd.read_csv(\"/content/drive/MyDrive/Colab Notebooks/KroA100.csv\", header=None).rename(columns={0: 'number', 1: 'x', 2: 'y'})\n",
        "df_A200 = pd.read_csv(\"/content/drive/MyDrive/Colab Notebooks/KroA200.csv\", header=None).rename(columns={0: 'number', 1: 'x', 2: 'y'})\n",
        "# df_B100 = pd.read_csv(\"/content/drive/MyDrive/Colab Notebooks/KroB100.csv\", header=None).rename(columns={0: 'number', 1: 'x', 2: 'y'})\n",
        "# df_B200 = pd.read_csv(\"/content/drive/MyDrive/Colab Notebooks/KroB200.csv\", header=None).rename(columns={0: 'number', 1: 'x', 2: 'y'})"
      ],
      "execution_count": null,
      "outputs": []
    },
    {
      "cell_type": "code",
      "metadata": {
        "id": "hKUdmrCFc_e1"
      },
      "source": [
        "dis_a100 = get_distance(df_A100)\n",
        "dis_a200 = get_distance(df_A200)\n",
        "# dis_b100 = get_distance(df_B100)\n",
        "# dis_b200 = get_distance(df_B200)"
      ],
      "execution_count": null,
      "outputs": []
    },
    {
      "cell_type": "code",
      "metadata": {
        "id": "ivduHnvTP35m"
      },
      "source": [
        "bestTour_A100 = [75, 32, 12, 94, 81, 36, 4, 95, 77, 51, 47, 99, 40, 70, 13, 2, 42, 45, 28, 33, 6, 56, 86, 50, 60, 57, 66, 88, 30, 79, 41, 7, 74, 89, 83, 35, 98, 37, 23, 17, 93, 87, 15, 21, 69, 52, 78, 9, 71, 20, 73, 58, 16, 14, 10, 31, 44, 90, 92, 27, 0, 91, 55, 96, 3, 64, 25, 65, 18, 48, 5, 62, 46, 97, 22, 76, 59, 61, 19, 85, 34, 26, 11, 54, 82, 8, 24, 80, 68, 72, 67, 84, 29, 38, 49, 43, 1, 53, 39, 63]"
      ],
      "execution_count": null,
      "outputs": []
    },
    {
      "cell_type": "code",
      "metadata": {
        "id": "2N4iq7V0eTDs"
      },
      "source": [
        "bestTour_A200 = [33, 89, 142, 24, 16, 111, 119, 66, 176, 12, 197, 190, 0, 52, 114, 116, 110, 39, 146, 191, 13, 107, 157, 76, 79, 150, 186, 5, 108, 106, 156, 46, 30, 162, 105, 148, 43, 187, 62, 15, 117, 123, 60, 135, 120, 173, 158, 23, 31, 25, 198, 6, 81, 77, 8, 137, 36, 183, 28, 109, 17, 48, 92, 3, 100, 59, 192, 127, 166, 163, 139, 88, 58, 68, 99, 32, 44, 196, 96, 80, 155, 179, 130, 188, 40, 29, 67, 168, 167, 184, 61, 82, 53, 64, 26, 11, 65, 152, 47, 165, 95, 86, 125, 164, 103, 118, 189, 171, 45, 131, 84, 144, 122, 14, 78, 159, 161, 54, 185, 154, 182, 7, 145, 102, 113, 97, 87, 38, 129, 71, 49, 138, 85, 94, 93, 181, 194, 112, 175, 132, 136, 42, 104, 4, 195, 177, 151, 55, 70, 37, 27, 147, 199, 170, 140, 57, 128, 133, 21, 74, 126, 41, 134, 19, 63, 160, 124, 180, 1, 34, 22, 172, 149, 90, 143, 69, 75, 101, 20, 153, 72, 2, 141, 73, 56, 35, 174, 9, 91, 98, 18, 178, 50, 193, 115, 121, 169, 83, 10, 51]"
      ],
      "execution_count": null,
      "outputs": []
    },
    {
      "cell_type": "code",
      "metadata": {
        "id": "HzYMNNJyCSVC"
      },
      "source": [
        "bestTour_B100 = [52, 0, 84, 14, 78, 30, 5, 53, 61, 82, 71, 49, 85, 4, 42, 55, 70, 37, 27, 38, 21, 74, 46, 66, 12, 26, 39, 11, 3, 59, 29, 67, 1, 34, 22, 90, 94, 93, 75, 69, 20, 88, 40, 58, 72, 2, 68, 73, 56, 35, 9, 91, 18, 98, 92, 48, 17, 28, 60, 25, 6, 81, 77, 8, 31, 23, 45, 36, 15, 50, 62, 43, 65, 47, 95, 86, 51, 10, 83, 96, 80, 44, 32, 99, 13, 76, 79, 64, 63, 19, 54, 41, 7, 16, 24, 89, 33, 57, 97, 87]"
      ],
      "execution_count": null,
      "outputs": []
    },
    {
      "cell_type": "code",
      "metadata": {
        "id": "1SWktIkxIiEK"
      },
      "source": [
        "bsetTour_B200 = [87, 147, 27, 38, 37, 55, 151, 177, 195, 138, 49, 184, 167, 172, 168, 67, 29, 76, 157, 127, 98, 118, 47, 51, 10, 9, 174, 35, 56, 73, 99, 155, 32, 92, 162, 3, 58, 2, 72, 188, 130, 179, 141, 68, 107, 100, 146, 39, 110, 116, 114, 52, 0, 190, 79, 160, 124, 180, 1, 34, 22, 143, 149, 90, 93, 94, 136, 42, 104, 4, 70, 129, 71, 82, 53, 5, 186, 150, 64, 12, 14, 144, 84, 131, 45, 171, 135, 25, 198, 6, 81, 77, 8, 137, 183, 28, 109, 17, 189, 18, 91, 196, 44, 80, 96, 152, 65, 48, 11, 26, 197, 122, 78, 159, 63, 19, 134, 41, 119, 108, 61, 85, 132, 175, 112, 194, 181, 75, 69, 101, 163, 139, 20, 153, 88, 40, 166, 105, 148, 178, 62, 193, 50, 36, 120, 173, 158, 23, 31, 60, 123, 117, 15, 43, 187, 115, 121, 169, 83, 165, 95, 86, 125, 164, 103, 13, 191, 59, 192, 176, 161, 54, 185, 126, 111, 154, 182, 7, 128, 113, 97, 199, 170, 140, 57, 33, 89, 24, 16, 142, 102, 145, 133, 21, 74, 106, 156, 46, 30, 66]"
      ],
      "execution_count": null,
      "outputs": []
    },
    {
      "cell_type": "markdown",
      "metadata": {
        "id": "OAI53LmlhjP5"
      },
      "source": [
        "# Define Function"
      ]
    },
    {
      "cell_type": "code",
      "metadata": {
        "id": "JRIGjxEmodf4"
      },
      "source": [
        "def extractWeed(results):\n",
        "  results_length = []\n",
        "  results_tour = []\n",
        "  for weeds in results:\n",
        "    tmpLength = []\n",
        "    tmpTour = []\n",
        "    for weed in weeds:\n",
        "      tmpLength.append(weed.length)\n",
        "      tmpTour.append(weed.tour)\n",
        "    results_length.append(tmpLength)\n",
        "    results_tour.append(tmpTour)\n",
        "  return results_length, results_tour"
      ],
      "execution_count": null,
      "outputs": []
    },
    {
      "cell_type": "code",
      "metadata": {
        "id": "Fmp2vgojTofE"
      },
      "source": [
        "def extractPair(tour):\n",
        "  tourPairs = []\n",
        "  for i in range(len(tour)-1):\n",
        "    tourPairs.append([tour[i],tour[i+1]])\n",
        "  return tourPairs\n",
        "\n",
        "def calculateLength(tour, distance):\n",
        "  d = 0\n",
        "  for i in range(len(tour)-1):\n",
        "    d = d + distance[tour[i]][tour[i+1]]\n",
        "  return d"
      ],
      "execution_count": null,
      "outputs": []
    },
    {
      "cell_type": "code",
      "metadata": {
        "id": "lGrALqBROfV2"
      },
      "source": [
        "class InvasiveWeed:\n",
        "\n",
        "  def __init__(self, cityNumber=None, distanceMatrix=None, isSeed=False):\n",
        "    if (isSeed):\n",
        "      self.tour = []\n",
        "      self.length = 0\n",
        "    else:\n",
        "      self.tour = np.random.randint(2, size=30)\n",
        "      random.shuffle(self.tour)\n",
        "      self.length =  self.tour.sum()\n",
        "\n",
        "  def setSeed(self, tour, length):\n",
        "    self.tour = tour\n",
        "    self.length = length\n",
        "\n",
        "  def generateSeed(self, M, distanceMatrix):\n",
        "    newSeed = InvasiveWeed(isSeed=True)\n",
        "    newSeed.tour = [1 if np.round(np.random.normal(0,0.6,1))[0] > 1 else 0 for n in self.tour].copy()\n",
        "    newSeed.length = sum(newSeed.tour)\n",
        "    return newSeed\n",
        "\n",
        "  def __str__(self):\n",
        "    return f'Length: {self.length}, Tour: {self.tour[:10]} ... {self.tour[-10:]}'\n",
        "\n",
        "  def __repr__(self):\n",
        "    return f'Length: {self.length}, Tour: {self.tour[:10]} ... {self.tour[-10:]}'\n",
        "\n",
        "  def __lt__(self, other):\n",
        "    return self.length > other.length"
      ],
      "execution_count": null,
      "outputs": []
    },
    {
      "cell_type": "code",
      "metadata": {
        "id": "Al7PBWGaBzPy"
      },
      "source": [
        "def initialPopulation(weedNumber, cityNumber, distanceMatrix):\n",
        "  population = []\n",
        "  for i in range(weedNumber):\n",
        "    population.append(InvasiveWeed(cityNumber, distanceMatrix))\n",
        "  return population"
      ],
      "execution_count": null,
      "outputs": []
    },
    {
      "cell_type": "code",
      "metadata": {
        "id": "f8tNyvka_clX"
      },
      "source": [
        "def MPF(series, case, i, j):\n",
        "  # print(f'case= {case}, i = {i}, j = {j}, {series}')\n",
        "  if (i == j): return False\n",
        "\n",
        "  if (case == 1):\n",
        "    if (i < j):\n",
        "      tmp = series[i]\n",
        "      series[i:j-1] = series[i+1:j]\n",
        "      series[j-1] = tmp\n",
        "    else:\n",
        "      tmp = series[i]\n",
        "      series[i+1:j+1] = series[i:j]\n",
        "      series[i] = tmp\n",
        "\n",
        "  elif (case == 2):\n",
        "    if (i < j):\n",
        "      tmp = series[j]\n",
        "      series[i+1:j+1] = series[i:j]\n",
        "      series[i] = tmp\n",
        "    else:\n",
        "      tmp = series[j]\n",
        "      series[j: i-1] = series[j+1:i]\n",
        "      series[i-1] = tmp\n",
        "\n",
        "  elif (case == 3):\n",
        "    if(i < j):\n",
        "      tmp = series[i]\n",
        "      series[i:j] = series[i+1:j+1]\n",
        "      series[j] = tmp\n",
        "    else:\n",
        "      tmp = series[i]\n",
        "      series[j+2:i+1] = series[j+1:i]\n",
        "      series[j+1] = tmp\n",
        "\n",
        "  elif (case == 4):\n",
        "      series[i], series[j] = series[j], series[i]\n",
        "\n",
        "  return True"
      ],
      "execution_count": null,
      "outputs": []
    },
    {
      "cell_type": "code",
      "metadata": {
        "id": "jEVFxvz5p-Vv"
      },
      "source": [
        "def getLinearParameter(worstLength, lowestSeedAmount, bestLength, highestSeedAmount):\n",
        "  m =  (highestSeedAmount-lowestSeedAmount)/((bestLength-worstLength)+1) #(y2-y1)/(x2-x1)\n",
        "  c =  (m*(bestLength+worstLength)-(highestSeedAmount+lowestSeedAmount))/2 #(m*(x2+x1)-(y2+y1))/2\n",
        "  return m, c"
      ],
      "execution_count": null,
      "outputs": []
    },
    {
      "cell_type": "code",
      "metadata": {
        "id": "Qg-Zugq4_kfg"
      },
      "source": [
        "def getSeedAmount(length, m, c):\n",
        "  return round(m*(length) - c)"
      ],
      "execution_count": null,
      "outputs": []
    },
    {
      "cell_type": "code",
      "metadata": {
        "id": "iHFls444HFtM"
      },
      "source": [
        "def getM(iter, iterMax, MStart, MEnd, n=3):\n",
        "  return (((iterMax-iter)/iterMax)**n)*(MStart-MEnd) + MEnd"
      ],
      "execution_count": null,
      "outputs": []
    },
    {
      "cell_type": "markdown",
      "metadata": {
        "id": "avntLECdEjCh"
      },
      "source": [
        "# Experiment"
      ]
    },
    {
      "cell_type": "code",
      "metadata": {
        "id": "T14lhV7fDxhn"
      },
      "source": [
        "def optimize(population, smin, smax, iterMax, MStart, MEnd, n, pmax):\n",
        "\n",
        "  start = time.time()\n",
        "  populationResult = []\n",
        "  population.sort()\n",
        "  for iter in range(iterMax):\n",
        "\n",
        "    # 2. reproduction\n",
        "    m, c = getLinearParameter(population[-1].length, smin, population[0].length, smax)\n",
        "\n",
        "    # 3. Spatial dispersal\n",
        "    newSeed = []\n",
        "    M = round(getM(iter, iterMax, MStart, MEnd, n))\n",
        "    for parent in population:\n",
        "      for _ in range(getSeedAmount(parent.length, m, c)):\n",
        "        newSeed.append(parent.generateSeed(M, None))\n",
        "\n",
        "    # 4. Competitive exclusion\n",
        "    population = population + newSeed\n",
        "    population.sort()\n",
        "    if(len(population) > pmax): population = population[:pmax]\n",
        "\n",
        "    populationResult.append(population[0])\n",
        "    if(iter%20000 == 0): print(f'round:{iter}, {population[0]}')\n",
        "  return populationResult, (time.time()-start)"
      ],
      "execution_count": null,
      "outputs": []
    },
    {
      "cell_type": "code",
      "metadata": {
        "id": "6Uecd3eIB4WQ"
      },
      "source": [],
      "execution_count": null,
      "outputs": []
    },
    {
      "cell_type": "markdown",
      "metadata": {
        "id": "KSoo6gVLIGxF"
      },
      "source": [
        "# A100"
      ]
    },
    {
      "cell_type": "code",
      "metadata": {
        "id": "1aLge6sJe8f3"
      },
      "source": [
        "smin = 0\n",
        "smaxs = [3,5]\n",
        "iterMax = 1000\n",
        "MStart = 10\n",
        "MEnds = [1,2,3]\n",
        "n = 3\n",
        "pmaxs = [20,40,60]\n",
        "results = []\n",
        "times = []"
      ],
      "execution_count": null,
      "outputs": []
    },
    {
      "cell_type": "code",
      "metadata": {
        "colab": {
          "base_uri": "https://localhost:8080/",
          "height": 1000
        },
        "id": "2Rf0ecDtJYu4",
        "outputId": "995812e3-6068-4d8e-cd6e-160da319c45f"
      },
      "source": [
        "initial_pop = initialPopulation(30,30, None)\n",
        "\n",
        "for i in range(100):\n",
        "  tmpResult, tmpTime = optimize(initial_pop.copy(), smin=0, smax=3, iterMax=100, MStart=0.6, MEnd=0.1, n=0, pmax=20)\n",
        "  results.append(tmpResult)\n",
        "  times.append(tmpTime)"
      ],
      "execution_count": null,
      "outputs": [
        {
          "output_type": "stream",
          "text": [
            "round:0, Length: 18, Tour: [1 1 0 1 1 1 0 0 1 1] ... [1 1 0 0 0 0 0 0 1 1]\n",
            "round:0, Length: 18, Tour: [1 1 0 1 1 1 0 0 1 1] ... [1 1 0 0 0 0 0 0 1 1]\n",
            "round:0, Length: 18, Tour: [1 1 0 1 1 1 0 0 1 1] ... [1 1 0 0 0 0 0 0 1 1]\n",
            "round:0, Length: 18, Tour: [1 1 0 1 1 1 0 0 1 1] ... [1 1 0 0 0 0 0 0 1 1]\n",
            "round:0, Length: 18, Tour: [1 1 0 1 1 1 0 0 1 1] ... [1 1 0 0 0 0 0 0 1 1]\n",
            "round:0, Length: 18, Tour: [1 1 0 1 1 1 0 0 1 1] ... [1 1 0 0 0 0 0 0 1 1]\n",
            "round:0, Length: 18, Tour: [1 1 0 1 1 1 0 0 1 1] ... [1 1 0 0 0 0 0 0 1 1]\n",
            "round:0, Length: 18, Tour: [1 1 0 1 1 1 0 0 1 1] ... [1 1 0 0 0 0 0 0 1 1]\n",
            "round:0, Length: 18, Tour: [1 1 0 1 1 1 0 0 1 1] ... [1 1 0 0 0 0 0 0 1 1]\n",
            "round:0, Length: 18, Tour: [1 1 0 1 1 1 0 0 1 1] ... [1 1 0 0 0 0 0 0 1 1]\n",
            "round:0, Length: 18, Tour: [1 1 0 1 1 1 0 0 1 1] ... [1 1 0 0 0 0 0 0 1 1]\n",
            "round:0, Length: 18, Tour: [1 1 0 1 1 1 0 0 1 1] ... [1 1 0 0 0 0 0 0 1 1]\n",
            "round:0, Length: 18, Tour: [1 1 0 1 1 1 0 0 1 1] ... [1 1 0 0 0 0 0 0 1 1]\n",
            "round:0, Length: 18, Tour: [1 1 0 1 1 1 0 0 1 1] ... [1 1 0 0 0 0 0 0 1 1]\n",
            "round:0, Length: 18, Tour: [1 1 0 1 1 1 0 0 1 1] ... [1 1 0 0 0 0 0 0 1 1]\n",
            "round:0, Length: 18, Tour: [1 1 0 1 1 1 0 0 1 1] ... [1 1 0 0 0 0 0 0 1 1]\n",
            "round:0, Length: 18, Tour: [1 1 0 1 1 1 0 0 1 1] ... [1 1 0 0 0 0 0 0 1 1]\n",
            "round:0, Length: 18, Tour: [1 1 0 1 1 1 0 0 1 1] ... [1 1 0 0 0 0 0 0 1 1]\n",
            "round:0, Length: 18, Tour: [1 1 0 1 1 1 0 0 1 1] ... [1 1 0 0 0 0 0 0 1 1]\n",
            "round:0, Length: 18, Tour: [1 1 0 1 1 1 0 0 1 1] ... [1 1 0 0 0 0 0 0 1 1]\n",
            "round:0, Length: 18, Tour: [1 1 0 1 1 1 0 0 1 1] ... [1 1 0 0 0 0 0 0 1 1]\n",
            "round:0, Length: 18, Tour: [1 1 0 1 1 1 0 0 1 1] ... [1 1 0 0 0 0 0 0 1 1]\n",
            "round:0, Length: 18, Tour: [1 1 0 1 1 1 0 0 1 1] ... [1 1 0 0 0 0 0 0 1 1]\n",
            "round:0, Length: 18, Tour: [1 1 0 1 1 1 0 0 1 1] ... [1 1 0 0 0 0 0 0 1 1]\n",
            "round:0, Length: 18, Tour: [1 1 0 1 1 1 0 0 1 1] ... [1 1 0 0 0 0 0 0 1 1]\n",
            "round:0, Length: 18, Tour: [1 1 0 1 1 1 0 0 1 1] ... [1 1 0 0 0 0 0 0 1 1]\n",
            "round:0, Length: 18, Tour: [1 1 0 1 1 1 0 0 1 1] ... [1 1 0 0 0 0 0 0 1 1]\n",
            "round:0, Length: 18, Tour: [1 1 0 1 1 1 0 0 1 1] ... [1 1 0 0 0 0 0 0 1 1]\n",
            "round:0, Length: 18, Tour: [1 1 0 1 1 1 0 0 1 1] ... [1 1 0 0 0 0 0 0 1 1]\n",
            "round:0, Length: 18, Tour: [1 1 0 1 1 1 0 0 1 1] ... [1 1 0 0 0 0 0 0 1 1]\n",
            "round:0, Length: 18, Tour: [1 1 0 1 1 1 0 0 1 1] ... [1 1 0 0 0 0 0 0 1 1]\n",
            "round:0, Length: 18, Tour: [1 1 0 1 1 1 0 0 1 1] ... [1 1 0 0 0 0 0 0 1 1]\n",
            "round:0, Length: 18, Tour: [1 1 0 1 1 1 0 0 1 1] ... [1 1 0 0 0 0 0 0 1 1]\n",
            "round:0, Length: 18, Tour: [1 1 0 1 1 1 0 0 1 1] ... [1 1 0 0 0 0 0 0 1 1]\n",
            "round:0, Length: 18, Tour: [1 1 0 1 1 1 0 0 1 1] ... [1 1 0 0 0 0 0 0 1 1]\n",
            "round:0, Length: 18, Tour: [1 1 0 1 1 1 0 0 1 1] ... [1 1 0 0 0 0 0 0 1 1]\n",
            "round:0, Length: 18, Tour: [1 1 0 1 1 1 0 0 1 1] ... [1 1 0 0 0 0 0 0 1 1]\n",
            "round:0, Length: 18, Tour: [1 1 0 1 1 1 0 0 1 1] ... [1 1 0 0 0 0 0 0 1 1]\n",
            "round:0, Length: 18, Tour: [1 1 0 1 1 1 0 0 1 1] ... [1 1 0 0 0 0 0 0 1 1]\n",
            "round:0, Length: 18, Tour: [1 1 0 1 1 1 0 0 1 1] ... [1 1 0 0 0 0 0 0 1 1]\n",
            "round:0, Length: 18, Tour: [1 1 0 1 1 1 0 0 1 1] ... [1 1 0 0 0 0 0 0 1 1]\n",
            "round:0, Length: 18, Tour: [1 1 0 1 1 1 0 0 1 1] ... [1 1 0 0 0 0 0 0 1 1]\n",
            "round:0, Length: 18, Tour: [1 1 0 1 1 1 0 0 1 1] ... [1 1 0 0 0 0 0 0 1 1]\n",
            "round:0, Length: 18, Tour: [1 1 0 1 1 1 0 0 1 1] ... [1 1 0 0 0 0 0 0 1 1]\n",
            "round:0, Length: 18, Tour: [1 1 0 1 1 1 0 0 1 1] ... [1 1 0 0 0 0 0 0 1 1]\n",
            "round:0, Length: 18, Tour: [1 1 0 1 1 1 0 0 1 1] ... [1 1 0 0 0 0 0 0 1 1]\n",
            "round:0, Length: 18, Tour: [1 1 0 1 1 1 0 0 1 1] ... [1 1 0 0 0 0 0 0 1 1]\n",
            "round:0, Length: 18, Tour: [1 1 0 1 1 1 0 0 1 1] ... [1 1 0 0 0 0 0 0 1 1]\n",
            "round:0, Length: 18, Tour: [1 1 0 1 1 1 0 0 1 1] ... [1 1 0 0 0 0 0 0 1 1]\n",
            "round:0, Length: 18, Tour: [1 1 0 1 1 1 0 0 1 1] ... [1 1 0 0 0 0 0 0 1 1]\n",
            "round:0, Length: 18, Tour: [1 1 0 1 1 1 0 0 1 1] ... [1 1 0 0 0 0 0 0 1 1]\n",
            "round:0, Length: 18, Tour: [1 1 0 1 1 1 0 0 1 1] ... [1 1 0 0 0 0 0 0 1 1]\n",
            "round:0, Length: 18, Tour: [1 1 0 1 1 1 0 0 1 1] ... [1 1 0 0 0 0 0 0 1 1]\n",
            "round:0, Length: 18, Tour: [1 1 0 1 1 1 0 0 1 1] ... [1 1 0 0 0 0 0 0 1 1]\n",
            "round:0, Length: 18, Tour: [1 1 0 1 1 1 0 0 1 1] ... [1 1 0 0 0 0 0 0 1 1]\n",
            "round:0, Length: 18, Tour: [1 1 0 1 1 1 0 0 1 1] ... [1 1 0 0 0 0 0 0 1 1]\n",
            "round:0, Length: 18, Tour: [1 1 0 1 1 1 0 0 1 1] ... [1 1 0 0 0 0 0 0 1 1]\n",
            "round:0, Length: 18, Tour: [1 1 0 1 1 1 0 0 1 1] ... [1 1 0 0 0 0 0 0 1 1]\n",
            "round:0, Length: 18, Tour: [1 1 0 1 1 1 0 0 1 1] ... [1 1 0 0 0 0 0 0 1 1]\n",
            "round:0, Length: 18, Tour: [1 1 0 1 1 1 0 0 1 1] ... [1 1 0 0 0 0 0 0 1 1]\n",
            "round:0, Length: 18, Tour: [1 1 0 1 1 1 0 0 1 1] ... [1 1 0 0 0 0 0 0 1 1]\n",
            "round:0, Length: 18, Tour: [1 1 0 1 1 1 0 0 1 1] ... [1 1 0 0 0 0 0 0 1 1]\n",
            "round:0, Length: 18, Tour: [1 1 0 1 1 1 0 0 1 1] ... [1 1 0 0 0 0 0 0 1 1]\n",
            "round:0, Length: 18, Tour: [1 1 0 1 1 1 0 0 1 1] ... [1 1 0 0 0 0 0 0 1 1]\n",
            "round:0, Length: 18, Tour: [1 1 0 1 1 1 0 0 1 1] ... [1 1 0 0 0 0 0 0 1 1]\n",
            "round:0, Length: 18, Tour: [1 1 0 1 1 1 0 0 1 1] ... [1 1 0 0 0 0 0 0 1 1]\n",
            "round:0, Length: 18, Tour: [1 1 0 1 1 1 0 0 1 1] ... [1 1 0 0 0 0 0 0 1 1]\n",
            "round:0, Length: 18, Tour: [1 1 0 1 1 1 0 0 1 1] ... [1 1 0 0 0 0 0 0 1 1]\n",
            "round:0, Length: 18, Tour: [1 1 0 1 1 1 0 0 1 1] ... [1 1 0 0 0 0 0 0 1 1]\n",
            "round:0, Length: 18, Tour: [1 1 0 1 1 1 0 0 1 1] ... [1 1 0 0 0 0 0 0 1 1]\n",
            "round:0, Length: 18, Tour: [1 1 0 1 1 1 0 0 1 1] ... [1 1 0 0 0 0 0 0 1 1]\n"
          ],
          "name": "stdout"
        },
        {
          "output_type": "error",
          "ename": "KeyboardInterrupt",
          "evalue": "ignored",
          "traceback": [
            "\u001b[0;31m---------------------------------------------------------------------------\u001b[0m",
            "\u001b[0;31mKeyboardInterrupt\u001b[0m                         Traceback (most recent call last)",
            "\u001b[0;32m<ipython-input-65-3dacca95248c>\u001b[0m in \u001b[0;36m<module>\u001b[0;34m()\u001b[0m\n\u001b[1;32m      2\u001b[0m \u001b[0;34m\u001b[0m\u001b[0m\n\u001b[1;32m      3\u001b[0m \u001b[0;32mfor\u001b[0m \u001b[0mi\u001b[0m \u001b[0;32min\u001b[0m \u001b[0mrange\u001b[0m\u001b[0;34m(\u001b[0m\u001b[0;36m100\u001b[0m\u001b[0;34m)\u001b[0m\u001b[0;34m:\u001b[0m\u001b[0;34m\u001b[0m\u001b[0;34m\u001b[0m\u001b[0m\n\u001b[0;32m----> 4\u001b[0;31m   \u001b[0mtmpResult\u001b[0m\u001b[0;34m,\u001b[0m \u001b[0mtmpTime\u001b[0m \u001b[0;34m=\u001b[0m \u001b[0moptimize\u001b[0m\u001b[0;34m(\u001b[0m\u001b[0minitial_pop\u001b[0m\u001b[0;34m.\u001b[0m\u001b[0mcopy\u001b[0m\u001b[0;34m(\u001b[0m\u001b[0;34m)\u001b[0m\u001b[0;34m,\u001b[0m \u001b[0msmin\u001b[0m\u001b[0;34m=\u001b[0m\u001b[0;36m0\u001b[0m\u001b[0;34m,\u001b[0m \u001b[0msmax\u001b[0m\u001b[0;34m=\u001b[0m\u001b[0;36m3\u001b[0m\u001b[0;34m,\u001b[0m \u001b[0miterMax\u001b[0m\u001b[0;34m=\u001b[0m\u001b[0;36m100\u001b[0m\u001b[0;34m,\u001b[0m \u001b[0mMStart\u001b[0m\u001b[0;34m=\u001b[0m\u001b[0;36m0.6\u001b[0m\u001b[0;34m,\u001b[0m \u001b[0mMEnd\u001b[0m\u001b[0;34m=\u001b[0m\u001b[0;36m0.1\u001b[0m\u001b[0;34m,\u001b[0m \u001b[0mn\u001b[0m\u001b[0;34m=\u001b[0m\u001b[0;36m0\u001b[0m\u001b[0;34m,\u001b[0m \u001b[0mpmax\u001b[0m\u001b[0;34m=\u001b[0m\u001b[0;36m20\u001b[0m\u001b[0;34m)\u001b[0m\u001b[0;34m\u001b[0m\u001b[0;34m\u001b[0m\u001b[0m\n\u001b[0m\u001b[1;32m      5\u001b[0m   \u001b[0mresults\u001b[0m\u001b[0;34m.\u001b[0m\u001b[0mappend\u001b[0m\u001b[0;34m(\u001b[0m\u001b[0mtmpResult\u001b[0m\u001b[0;34m)\u001b[0m\u001b[0;34m\u001b[0m\u001b[0;34m\u001b[0m\u001b[0m\n\u001b[1;32m      6\u001b[0m   \u001b[0mtimes\u001b[0m\u001b[0;34m.\u001b[0m\u001b[0mappend\u001b[0m\u001b[0;34m(\u001b[0m\u001b[0mtmpTime\u001b[0m\u001b[0;34m)\u001b[0m\u001b[0;34m\u001b[0m\u001b[0;34m\u001b[0m\u001b[0m\n",
            "\u001b[0;32m<ipython-input-63-2333026a67d3>\u001b[0m in \u001b[0;36moptimize\u001b[0;34m(population, smin, smax, iterMax, MStart, MEnd, n, pmax)\u001b[0m\n\u001b[1;32m     14\u001b[0m     \u001b[0;32mfor\u001b[0m \u001b[0mparent\u001b[0m \u001b[0;32min\u001b[0m \u001b[0mpopulation\u001b[0m\u001b[0;34m:\u001b[0m\u001b[0;34m\u001b[0m\u001b[0;34m\u001b[0m\u001b[0m\n\u001b[1;32m     15\u001b[0m       \u001b[0;32mfor\u001b[0m \u001b[0m_\u001b[0m \u001b[0;32min\u001b[0m \u001b[0mrange\u001b[0m\u001b[0;34m(\u001b[0m\u001b[0mgetSeedAmount\u001b[0m\u001b[0;34m(\u001b[0m\u001b[0mparent\u001b[0m\u001b[0;34m.\u001b[0m\u001b[0mlength\u001b[0m\u001b[0;34m,\u001b[0m \u001b[0mm\u001b[0m\u001b[0;34m,\u001b[0m \u001b[0mc\u001b[0m\u001b[0;34m)\u001b[0m\u001b[0;34m)\u001b[0m\u001b[0;34m:\u001b[0m\u001b[0;34m\u001b[0m\u001b[0;34m\u001b[0m\u001b[0m\n\u001b[0;32m---> 16\u001b[0;31m         \u001b[0mnewSeed\u001b[0m\u001b[0;34m.\u001b[0m\u001b[0mappend\u001b[0m\u001b[0;34m(\u001b[0m\u001b[0mparent\u001b[0m\u001b[0;34m.\u001b[0m\u001b[0mgenerateSeed\u001b[0m\u001b[0;34m(\u001b[0m\u001b[0mM\u001b[0m\u001b[0;34m,\u001b[0m \u001b[0;32mNone\u001b[0m\u001b[0;34m)\u001b[0m\u001b[0;34m)\u001b[0m\u001b[0;34m\u001b[0m\u001b[0;34m\u001b[0m\u001b[0m\n\u001b[0m\u001b[1;32m     17\u001b[0m \u001b[0;34m\u001b[0m\u001b[0m\n\u001b[1;32m     18\u001b[0m     \u001b[0;31m# 4. Competitive exclusion\u001b[0m\u001b[0;34m\u001b[0m\u001b[0;34m\u001b[0m\u001b[0;34m\u001b[0m\u001b[0m\n",
            "\u001b[0;32m<ipython-input-57-e008764c3f48>\u001b[0m in \u001b[0;36mgenerateSeed\u001b[0;34m(self, M, distanceMatrix)\u001b[0m\n\u001b[1;32m     16\u001b[0m   \u001b[0;32mdef\u001b[0m \u001b[0mgenerateSeed\u001b[0m\u001b[0;34m(\u001b[0m\u001b[0mself\u001b[0m\u001b[0;34m,\u001b[0m \u001b[0mM\u001b[0m\u001b[0;34m,\u001b[0m \u001b[0mdistanceMatrix\u001b[0m\u001b[0;34m)\u001b[0m\u001b[0;34m:\u001b[0m\u001b[0;34m\u001b[0m\u001b[0;34m\u001b[0m\u001b[0m\n\u001b[1;32m     17\u001b[0m     \u001b[0mnewSeed\u001b[0m \u001b[0;34m=\u001b[0m \u001b[0mInvasiveWeed\u001b[0m\u001b[0;34m(\u001b[0m\u001b[0misSeed\u001b[0m\u001b[0;34m=\u001b[0m\u001b[0;32mTrue\u001b[0m\u001b[0;34m)\u001b[0m\u001b[0;34m\u001b[0m\u001b[0;34m\u001b[0m\u001b[0m\n\u001b[0;32m---> 18\u001b[0;31m     \u001b[0mnewSeed\u001b[0m\u001b[0;34m.\u001b[0m\u001b[0mtour\u001b[0m \u001b[0;34m=\u001b[0m \u001b[0;34m[\u001b[0m\u001b[0;36m1\u001b[0m \u001b[0;32mif\u001b[0m \u001b[0mnp\u001b[0m\u001b[0;34m.\u001b[0m\u001b[0mround\u001b[0m\u001b[0;34m(\u001b[0m\u001b[0mnp\u001b[0m\u001b[0;34m.\u001b[0m\u001b[0mrandom\u001b[0m\u001b[0;34m.\u001b[0m\u001b[0mnormal\u001b[0m\u001b[0;34m(\u001b[0m\u001b[0;36m0\u001b[0m\u001b[0;34m,\u001b[0m\u001b[0;36m0.6\u001b[0m\u001b[0;34m,\u001b[0m\u001b[0;36m1\u001b[0m\u001b[0;34m)\u001b[0m\u001b[0;34m)\u001b[0m\u001b[0;34m[\u001b[0m\u001b[0;36m0\u001b[0m\u001b[0;34m]\u001b[0m \u001b[0;34m>\u001b[0m \u001b[0;36m1\u001b[0m \u001b[0;32melse\u001b[0m \u001b[0;36m0\u001b[0m \u001b[0;32mfor\u001b[0m \u001b[0mn\u001b[0m \u001b[0;32min\u001b[0m \u001b[0mself\u001b[0m\u001b[0;34m.\u001b[0m\u001b[0mtour\u001b[0m\u001b[0;34m]\u001b[0m\u001b[0;34m.\u001b[0m\u001b[0mcopy\u001b[0m\u001b[0;34m(\u001b[0m\u001b[0;34m)\u001b[0m\u001b[0;34m\u001b[0m\u001b[0;34m\u001b[0m\u001b[0m\n\u001b[0m\u001b[1;32m     19\u001b[0m     \u001b[0mnewSeed\u001b[0m\u001b[0;34m.\u001b[0m\u001b[0mlength\u001b[0m \u001b[0;34m=\u001b[0m \u001b[0msum\u001b[0m\u001b[0;34m(\u001b[0m\u001b[0mnewSeed\u001b[0m\u001b[0;34m.\u001b[0m\u001b[0mtour\u001b[0m\u001b[0;34m)\u001b[0m\u001b[0;34m\u001b[0m\u001b[0;34m\u001b[0m\u001b[0m\n\u001b[1;32m     20\u001b[0m     \u001b[0;32mreturn\u001b[0m \u001b[0mnewSeed\u001b[0m\u001b[0;34m\u001b[0m\u001b[0;34m\u001b[0m\u001b[0m\n",
            "\u001b[0;32m<ipython-input-57-e008764c3f48>\u001b[0m in \u001b[0;36m<listcomp>\u001b[0;34m(.0)\u001b[0m\n\u001b[1;32m     16\u001b[0m   \u001b[0;32mdef\u001b[0m \u001b[0mgenerateSeed\u001b[0m\u001b[0;34m(\u001b[0m\u001b[0mself\u001b[0m\u001b[0;34m,\u001b[0m \u001b[0mM\u001b[0m\u001b[0;34m,\u001b[0m \u001b[0mdistanceMatrix\u001b[0m\u001b[0;34m)\u001b[0m\u001b[0;34m:\u001b[0m\u001b[0;34m\u001b[0m\u001b[0;34m\u001b[0m\u001b[0m\n\u001b[1;32m     17\u001b[0m     \u001b[0mnewSeed\u001b[0m \u001b[0;34m=\u001b[0m \u001b[0mInvasiveWeed\u001b[0m\u001b[0;34m(\u001b[0m\u001b[0misSeed\u001b[0m\u001b[0;34m=\u001b[0m\u001b[0;32mTrue\u001b[0m\u001b[0;34m)\u001b[0m\u001b[0;34m\u001b[0m\u001b[0;34m\u001b[0m\u001b[0m\n\u001b[0;32m---> 18\u001b[0;31m     \u001b[0mnewSeed\u001b[0m\u001b[0;34m.\u001b[0m\u001b[0mtour\u001b[0m \u001b[0;34m=\u001b[0m \u001b[0;34m[\u001b[0m\u001b[0;36m1\u001b[0m \u001b[0;32mif\u001b[0m \u001b[0mnp\u001b[0m\u001b[0;34m.\u001b[0m\u001b[0mround\u001b[0m\u001b[0;34m(\u001b[0m\u001b[0mnp\u001b[0m\u001b[0;34m.\u001b[0m\u001b[0mrandom\u001b[0m\u001b[0;34m.\u001b[0m\u001b[0mnormal\u001b[0m\u001b[0;34m(\u001b[0m\u001b[0;36m0\u001b[0m\u001b[0;34m,\u001b[0m\u001b[0;36m0.6\u001b[0m\u001b[0;34m,\u001b[0m\u001b[0;36m1\u001b[0m\u001b[0;34m)\u001b[0m\u001b[0;34m)\u001b[0m\u001b[0;34m[\u001b[0m\u001b[0;36m0\u001b[0m\u001b[0;34m]\u001b[0m \u001b[0;34m>\u001b[0m \u001b[0;36m1\u001b[0m \u001b[0;32melse\u001b[0m \u001b[0;36m0\u001b[0m \u001b[0;32mfor\u001b[0m \u001b[0mn\u001b[0m \u001b[0;32min\u001b[0m \u001b[0mself\u001b[0m\u001b[0;34m.\u001b[0m\u001b[0mtour\u001b[0m\u001b[0;34m]\u001b[0m\u001b[0;34m.\u001b[0m\u001b[0mcopy\u001b[0m\u001b[0;34m(\u001b[0m\u001b[0;34m)\u001b[0m\u001b[0;34m\u001b[0m\u001b[0;34m\u001b[0m\u001b[0m\n\u001b[0m\u001b[1;32m     19\u001b[0m     \u001b[0mnewSeed\u001b[0m\u001b[0;34m.\u001b[0m\u001b[0mlength\u001b[0m \u001b[0;34m=\u001b[0m \u001b[0msum\u001b[0m\u001b[0;34m(\u001b[0m\u001b[0mnewSeed\u001b[0m\u001b[0;34m.\u001b[0m\u001b[0mtour\u001b[0m\u001b[0;34m)\u001b[0m\u001b[0;34m\u001b[0m\u001b[0;34m\u001b[0m\u001b[0m\n\u001b[1;32m     20\u001b[0m     \u001b[0;32mreturn\u001b[0m \u001b[0mnewSeed\u001b[0m\u001b[0;34m\u001b[0m\u001b[0;34m\u001b[0m\u001b[0m\n",
            "\u001b[0;32m<__array_function__ internals>\u001b[0m in \u001b[0;36mround_\u001b[0;34m(*args, **kwargs)\u001b[0m\n",
            "\u001b[0;32m/usr/local/lib/python3.7/dist-packages/numpy/core/fromnumeric.py\u001b[0m in \u001b[0;36mround_\u001b[0;34m(a, decimals, out)\u001b[0m\n\u001b[1;32m   3635\u001b[0m     \u001b[0maround\u001b[0m \u001b[0;34m:\u001b[0m \u001b[0mequivalent\u001b[0m \u001b[0mfunction\u001b[0m\u001b[0;34m;\u001b[0m \u001b[0msee\u001b[0m \u001b[0;32mfor\u001b[0m \u001b[0mdetails\u001b[0m\u001b[0;34m.\u001b[0m\u001b[0;34m\u001b[0m\u001b[0;34m\u001b[0m\u001b[0m\n\u001b[1;32m   3636\u001b[0m     \"\"\"\n\u001b[0;32m-> 3637\u001b[0;31m     \u001b[0;32mreturn\u001b[0m \u001b[0maround\u001b[0m\u001b[0;34m(\u001b[0m\u001b[0ma\u001b[0m\u001b[0;34m,\u001b[0m \u001b[0mdecimals\u001b[0m\u001b[0;34m=\u001b[0m\u001b[0mdecimals\u001b[0m\u001b[0;34m,\u001b[0m \u001b[0mout\u001b[0m\u001b[0;34m=\u001b[0m\u001b[0mout\u001b[0m\u001b[0;34m)\u001b[0m\u001b[0;34m\u001b[0m\u001b[0;34m\u001b[0m\u001b[0m\n\u001b[0m\u001b[1;32m   3638\u001b[0m \u001b[0;34m\u001b[0m\u001b[0m\n\u001b[1;32m   3639\u001b[0m \u001b[0;34m\u001b[0m\u001b[0m\n",
            "\u001b[0;32m<__array_function__ internals>\u001b[0m in \u001b[0;36maround\u001b[0;34m(*args, **kwargs)\u001b[0m\n",
            "\u001b[0;32m/usr/local/lib/python3.7/dist-packages/numpy/core/fromnumeric.py\u001b[0m in \u001b[0;36maround\u001b[0;34m(a, decimals, out)\u001b[0m\n\u001b[1;32m   3166\u001b[0m \u001b[0;34m\u001b[0m\u001b[0m\n\u001b[1;32m   3167\u001b[0m \u001b[0;34m\u001b[0m\u001b[0m\n\u001b[0;32m-> 3168\u001b[0;31m \u001b[0;34m@\u001b[0m\u001b[0marray_function_dispatch\u001b[0m\u001b[0;34m(\u001b[0m\u001b[0m_around_dispatcher\u001b[0m\u001b[0;34m)\u001b[0m\u001b[0;34m\u001b[0m\u001b[0;34m\u001b[0m\u001b[0m\n\u001b[0m\u001b[1;32m   3169\u001b[0m \u001b[0;32mdef\u001b[0m \u001b[0maround\u001b[0m\u001b[0;34m(\u001b[0m\u001b[0ma\u001b[0m\u001b[0;34m,\u001b[0m \u001b[0mdecimals\u001b[0m\u001b[0;34m=\u001b[0m\u001b[0;36m0\u001b[0m\u001b[0;34m,\u001b[0m \u001b[0mout\u001b[0m\u001b[0;34m=\u001b[0m\u001b[0;32mNone\u001b[0m\u001b[0;34m)\u001b[0m\u001b[0;34m:\u001b[0m\u001b[0;34m\u001b[0m\u001b[0;34m\u001b[0m\u001b[0m\n\u001b[1;32m   3170\u001b[0m     \"\"\"\n",
            "\u001b[0;31mKeyboardInterrupt\u001b[0m: "
          ]
        }
      ]
    },
    {
      "cell_type": "code",
      "metadata": {
        "id": "fYOc4tBlLKF7"
      },
      "source": [
        "# import pickle\n",
        "# with open(\"/content/drive/MyDrive/Colab Notebooks/time_A100.pickle\", 'wb') as f:\n",
        "#     pickle.dump([results, times], f)"
      ],
      "execution_count": null,
      "outputs": []
    },
    {
      "cell_type": "code",
      "metadata": {
        "id": "L_iur5hs1dMe"
      },
      "source": [
        "with open('/content/drive/MyDrive/Colab Notebooks/time_A100.pickle', 'rb') as f:\n",
        "    results, times = pickle.load(f)"
      ],
      "execution_count": null,
      "outputs": []
    },
    {
      "cell_type": "code",
      "metadata": {
        "id": "XqG9_ldlqhHI"
      },
      "source": [
        "res_l, res_t = extractWeed(results)"
      ],
      "execution_count": null,
      "outputs": []
    },
    {
      "cell_type": "code",
      "metadata": {
        "colab": {
          "base_uri": "https://localhost:8080/",
          "height": 282
        },
        "id": "xjftqmY8rJ9u",
        "outputId": "499b429c-9da8-45b9-cc0a-a25990187cd8"
      },
      "source": [
        "plt.plot(res_l[8])"
      ],
      "execution_count": null,
      "outputs": [
        {
          "output_type": "execute_result",
          "data": {
            "text/plain": [
              "[<matplotlib.lines.Line2D at 0x7f26ac2c4bd0>]"
            ]
          },
          "metadata": {
            "tags": []
          },
          "execution_count": 48
        },
        {
          "output_type": "display_data",
          "data": {
            "image/png": "[encoded data removed]",
            "text/plain": [
              "<Figure size 432x288 with 1 Axes>"
            ]
          },
          "metadata": {
            "tags": [],
            "needs_background": "light"
          }
        }
      ]
    },
    {
      "cell_type": "markdown",
      "metadata": {
        "id": "BfPP2YFbIBTa"
      },
      "source": [
        "# A200"
      ]
    },
    {
      "cell_type": "code",
      "metadata": {
        "id": "rdV-WH4oEjhh"
      },
      "source": [
        "smin = 0\n",
        "smaxs = [3,5]\n",
        "iterMax = 120000\n",
        "MStart = 10\n",
        "MEnds = [1,3]\n",
        "n = 3\n",
        "pmaxs = [20,60]\n",
        "results = []\n",
        "times = []"
      ],
      "execution_count": null,
      "outputs": []
    },
    {
      "cell_type": "code",
      "metadata": {
        "colab": {
          "base_uri": "https://localhost:8080/"
        },
        "id": "J9UCHlqGIJ49",
        "outputId": "cdeb951d-be4b-4fc7-a4ba-24f968dd1cb2"
      },
      "source": [
        "initial_pop = initialPopulation(100,200, dis_a200)\n",
        "for smax in smaxs:\n",
        "  for MEnd in MEnds:\n",
        "    for pmax in pmaxs:\n",
        "      tmpResult, tmpTime = optimize(initial_pop.copy(), smin, smax, iterMax, MStart, MEnd, n, pmax, dis_a200)\n",
        "      results.append(tmpResult)\n",
        "      times.append(tmpTime)"
      ],
      "execution_count": null,
      "outputs": [
        {
          "output_type": "stream",
          "text": [
            "round:0, Length: 299698.15829660755, Tour: [165, 116, 102, 28, 11, 62, 157, 171, 90, 59] ... [33, 113, 177, 77, 97, 180, 87, 160, 103, 66]\n",
            "round:20000, Length: 135611.13275380936, Tour: [131, 50, 169, 135, 60, 123, 56, 191, 52, 12] ... [55, 151, 195, 170, 140, 97, 24, 16, 147, 181]\n",
            "round:40000, Length: 90528.90781045164, Tour: [45, 190, 63, 54, 108, 5, 74, 21, 46, 111] ... [140, 89, 24, 16, 129, 71, 104, 112, 181, 94]\n",
            "round:60000, Length: 52785.77558391739, Tour: [41, 134, 111, 156, 108, 5, 53, 186, 160, 40] ... [140, 33, 89, 24, 16, 142, 145, 38, 71, 138]\n",
            "round:80000, Length: 38998.07227972392, Tour: [134, 41, 126, 111, 106, 108, 186, 150, 160, 40] ... [147, 199, 170, 140, 57, 33, 89, 142, 24, 16]\n",
            "round:100000, Length: 38820.6363383594, Tour: [134, 41, 185, 126, 111, 106, 108, 186, 150, 160] ... [147, 199, 170, 140, 57, 33, 89, 142, 24, 16]\n",
            "round:0, Length: 300445.097719196, Tour: [41, 93, 91, 50, 62, 52, 7, 63, 28, 115] ... [16, 133, 160, 167, 166, 17, 86, 161, 100, 35]\n",
            "round:20000, Length: 126812.02032879186, Tour: [3, 98, 115, 36, 117, 18, 56, 105, 122, 185] ... [30, 9, 155, 196, 166, 40, 88, 68, 179, 141]\n",
            "round:40000, Length: 89053.21666504603, Tour: [36, 48, 105, 100, 54, 106, 156, 186, 74, 71] ... [47, 183, 109, 17, 190, 146, 73, 99, 35, 188]\n",
            "round:60000, Length: 49830.98492457044, Tour: [74, 133, 21, 128, 145, 102, 57, 140, 170, 199] ... [17, 109, 28, 183, 36, 178, 18, 98, 9, 174]\n",
            "round:80000, Length: 42061.65519826842, Tour: [21, 133, 128, 145, 102, 57, 140, 170, 199, 147] ... [26, 190, 39, 11, 48, 17, 109, 28, 183, 36]\n",
            "round:100000, Length: 42061.65519826842, Tour: [21, 133, 128, 145, 102, 57, 140, 170, 199, 147] ... [26, 190, 39, 11, 48, 17, 109, 28, 183, 36]\n",
            "round:0, Length: 301974.07226712216, Tour: [165, 116, 102, 28, 11, 62, 157, 171, 90, 127] ... [113, 177, 92, 77, 97, 180, 8, 160, 103, 66]\n",
            "round:20000, Length: 139502.982303625, Tour: [50, 178, 8, 117, 135, 116, 161, 63, 74, 134] ... [175, 195, 97, 113, 104, 4, 85, 101, 94, 93]\n",
            "round:40000, Length: 111773.29372528465, Tour: [198, 23, 137, 8, 158, 182, 41, 63, 19, 78] ... [175, 37, 102, 113, 16, 82, 4, 94, 93, 85]\n",
            "round:60000, Length: 90334.25064545334, Tour: [6, 198, 123, 171, 158, 173, 122, 19, 63, 159] ... [172, 49, 138, 61, 70, 4, 85, 93, 94, 167]\n",
            "round:80000, Length: 64051.68448001372, Tour: [6, 198, 25, 158, 14, 159, 78, 19, 63, 38] ... [153, 20, 143, 49, 138, 61, 82, 70, 85, 94]\n",
            "round:100000, Length: 53775.39040869653, Tour: [6, 198, 25, 31, 158, 190, 122, 78, 159, 19] ... [82, 61, 21, 154, 74, 133, 71, 129, 70, 195]\n",
            "round:0, Length: 302021.89724296035, Tour: [165, 116, 102, 28, 11, 3, 62, 157, 171, 90] ... [33, 113, 177, 77, 97, 180, 8, 160, 103, 66]\n",
            "round:20000, Length: 138221.02372817893, Tour: [19, 84, 127, 40, 80, 47, 165, 164, 188, 68] ... [163, 44, 196, 81, 9, 98, 197, 126, 116, 114]\n",
            "round:40000, Length: 103514.84761949173, Tour: [155, 174, 80, 169, 165, 95, 56, 107, 166, 168] ... [120, 84, 12, 78, 197, 26, 190, 144, 116, 110]\n",
            "round:60000, Length: 81886.83434177641, Tour: [174, 9, 118, 98, 169, 83, 95, 196, 56, 107] ... [30, 78, 84, 197, 144, 190, 120, 39, 0, 110]\n",
            "round:80000, Length: 59593.710713735665, Tour: [174, 9, 118, 196, 99, 143, 90, 93, 149, 138] ... [78, 197, 190, 26, 146, 39, 110, 114, 0, 52]\n",
            "round:100000, Length: 50668.76543936668, Tour: [90, 149, 138, 70, 38, 27, 102, 145, 24, 16] ... [30, 161, 197, 26, 146, 39, 110, 114, 116, 52]\n",
            "round:0, Length: 301237.5917039766, Tour: [41, 93, 91, 50, 62, 52, 7, 63, 28, 115] ... [38, 16, 133, 160, 166, 17, 86, 161, 100, 35]\n",
            "round:20000, Length: 127721.48167650128, Tour: [27, 170, 38, 104, 138, 54, 63, 156, 111, 182] ... [95, 60, 28, 50, 178, 62, 169, 15, 103, 118]\n",
            "round:40000, Length: 85886.95447174426, Tour: [132, 104, 136, 112, 4, 195, 151, 177, 42, 149] ... [47, 169, 121, 36, 183, 117, 123, 50, 196, 155]\n",
            "round:60000, Length: 48400.49921537702, Tour: [175, 132, 136, 42, 104, 4, 90, 149, 163, 166] ... [121, 115, 62, 15, 178, 18, 91, 9, 35, 56]\n",
            "round:80000, Length: 39386.62673240712, Tour: [175, 132, 42, 104, 4, 136, 112, 194, 181, 93] ... [169, 121, 115, 187, 43, 152, 65, 91, 9, 174]\n",
            "round:100000, Length: 38572.019598377694, Tour: [175, 132, 42, 104, 136, 112, 194, 181, 93, 149] ... [169, 121, 115, 187, 43, 152, 65, 91, 9, 174]\n",
            "round:0, Length: 304101.415360349, Tour: [165, 116, 102, 28, 62, 157, 171, 90, 59, 183] ... [82, 106, 33, 113, 177, 77, 97, 160, 103, 66]\n",
            "round:20000, Length: 125458.49230948187, Tour: [87, 147, 90, 151, 129, 177, 49, 188, 107, 196] ... [59, 9, 35, 76, 176, 32, 10, 62, 183, 28]\n",
            "round:40000, Length: 83222.88317739776, Tour: [42, 104, 27, 38, 70, 71, 53, 79, 76, 166] ... [100, 59, 191, 169, 125, 86, 193, 43, 50, 8]\n",
            "round:60000, Length: 46524.066377928, Tour: [136, 42, 104, 4, 195, 37, 129, 71, 184, 167] ... [43, 169, 83, 47, 115, 187, 62, 50, 193, 121]\n",
            "round:80000, Length: 40766.26715607777, Tour: [136, 42, 104, 4, 49, 184, 167, 124, 76, 157] ... [47, 83, 169, 121, 115, 187, 43, 62, 50, 193]\n",
            "round:100000, Length: 40765.64243680748, Tour: [136, 42, 104, 4, 49, 184, 167, 124, 76, 157] ... [47, 83, 169, 121, 115, 187, 43, 62, 50, 193]\n",
            "round:0, Length: 297309.0611305107, Tour: [165, 116, 102, 28, 11, 62, 157, 171, 90, 59] ... [33, 113, 177, 77, 97, 180, 8, 160, 103, 66]\n",
            "round:20000, Length: 140614.6144651962, Tour: [50, 6, 30, 66, 108, 82, 170, 37, 138, 167] ... [1, 64, 126, 111, 182, 166, 72, 11, 120, 23]\n",
            "round:40000, Length: 106235.38302145647, Tour: [30, 66, 111, 106, 108, 74, 184, 163, 153, 20] ... [55, 70, 149, 59, 166, 64, 39, 189, 50, 123]\n",
            "round:60000, Length: 86818.81061470411, Tour: [30, 66, 46, 106, 156, 108, 111, 182, 168, 163] ... [97, 89, 102, 113, 38, 70, 87, 149, 59, 39]\n",
            "round:80000, Length: 60192.478867432415, Tour: [156, 46, 30, 34, 163, 20, 139, 69, 75, 181] ... [53, 74, 128, 145, 142, 89, 102, 113, 97, 38]\n",
            "round:100000, Length: 50555.52695501295, Tour: [46, 30, 124, 34, 168, 163, 20, 153, 69, 75] ... [53, 108, 74, 128, 145, 142, 89, 102, 113, 97]\n",
            "round:0, Length: 305677.3555501816, Tour: [180, 196, 5, 167, 100, 46, 4, 128, 127, 185] ... [8, 157, 95, 56, 51, 77, 66, 73, 35, 129]\n",
            "round:20000, Length: 123353.13565467912, Tour: [31, 135, 173, 116, 23, 42, 112, 129, 93, 132] ... [159, 19, 106, 145, 87, 138, 142, 33, 89, 57]\n",
            "round:40000, Length: 100228.04895192436, Tour: [28, 23, 116, 127, 186, 82, 61, 37, 138, 1] ... [159, 74, 7, 145, 87, 27, 177, 142, 33, 57]\n",
            "round:60000, Length: 74005.00033355877, Tour: [61, 82, 71, 111, 126, 53, 124, 37, 199, 97] ... [147, 87, 27, 177, 151, 38, 170, 57, 140, 33]\n",
            "round:80000, Length: 55593.41003045605, Tour: [61, 53, 119, 41, 134, 185, 126, 82, 71, 38] ... [97, 87, 147, 27, 177, 151, 199, 170, 140, 57]\n",
            "round:100000, Length: 45288.086782701976, Tour: [134, 41, 185, 126, 108, 53, 5, 176, 12, 197] ... [87, 27, 38, 55, 151, 147, 199, 140, 170, 57]\n"
          ],
          "name": "stdout"
        }
      ]
    },
    {
      "cell_type": "code",
      "metadata": {
        "id": "JvtAVlm4IYEs"
      },
      "source": [
        "# import pickle\n",
        "# with open(\"/content/drive/MyDrive/Colab Notebooks/time_A200.pickle\", 'wb') as f:\n",
        "#     pickle.dump([results, times], f)"
      ],
      "execution_count": null,
      "outputs": []
    }
  ]
}